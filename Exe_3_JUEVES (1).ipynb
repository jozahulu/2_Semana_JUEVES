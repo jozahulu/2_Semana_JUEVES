{
 "cells": [
  {
   "cell_type": "code",
   "execution_count": 89,
   "metadata": {},
   "outputs": [],
   "source": [
    "import numpy as np\n",
    "import matplotlib.pyplot as plt\n",
    "import scipy as sp\n",
    "from random import random\n",
    "%matplotlib inline\n",
    "from numpy import pi\n",
    "from math import *\n",
    "from numpy import *\n",
    "from sympy import*\n"
   ]
  },
  {
   "cell_type": "code",
   "execution_count": 90,
   "metadata": {},
   "outputs": [],
   "source": [
    "N=20 # Numero de Datos \n",
    "\n",
    "kx=0.5\n",
    "ky=0.45\n",
    "V=2\n"
   ]
  },
  {
   "cell_type": "code",
   "execution_count": 94,
   "metadata": {},
   "outputs": [
    {
     "name": "stdout",
     "output_type": "stream",
     "text": [
      "TRA 20\n"
     ]
    },
    {
     "data": {
      "image/png": "[encoded data removed]",
      "text/plain": [
       "<Figure size 432x288 with 1 Axes>"
      ]
     },
     "metadata": {},
     "output_type": "display_data"
    }
   ],
   "source": [
    "F = np.arange(0,N,1)     #Hay que cuidar estos vestores \n",
    "XF = np.arange(0,N,1)    # F,XF y x deben de tener el mismo numero de componentes siemopre\n",
    "x = np.random.rand(N)    # en este caso todos tienen 20 valores \n",
    "#print(x)\n",
    "y=np.random.rand(N)\n",
    "ky=np.random.rand(N)\n",
    "kx=np.random.rand(N)\n",
    "#Este es la libreria \n",
    "#TF=fft(y)  \n",
    "#print('primeros',y,x)\n",
    "M=len(x)\n",
    "print('TRA',M)\n",
    "# Aqui comienza el algoritmo que yo cree\n",
    "for k in range(M):\n",
    "    cr=0;    ci=0;\n",
    "    for n in range(M):\n",
    "        cr=cr+(1/N)*(cos(kx[k]*x[n]+ky[k]*y[n])) # esta es para ala parte real\n",
    "        ci=ci+(1/N)*(sin(kx[k]*x[n]+ky[k]*y[n]))  # esta es para la parte imaginaria\n",
    "        cr=cr\n",
    "        ci=ci\n",
    "        #print(cr)\n",
    "XF[k]=(V)*(cr*cr+ci*ci)/(N*N)-V/N # esta es la parte de la transformacion\n",
    "#print(XF)\n",
    " \n",
    "k = np.arange(0,M,1)\n",
    "F[k]=(kx[k]*x[k]+ky[k]*y[k])**0.5    \n",
    "#print('frecuencia',F,'Funcion Trasformada',XF)\n",
    "\n",
    "plt.plot(F,XF,'red')\n",
    "plt.ylabel('es un exponente complejo')\n",
    "plt.xlabel('F')\n",
    "plt.title('Deberia ser similare a un pulso de Fourier')\n",
    "plt.show()"
   ]
  },
  {
   "cell_type": "code",
   "execution_count": null,
   "metadata": {},
   "outputs": [],
   "source": []
  }
 ],
 "metadata": {
  "kernelspec": {
   "display_name": "Python 3",
   "language": "python",
   "name": "python3"
  },
  "language_info": {
   "codemirror_mode": {
    "name": "ipython",
    "version": 3
   },
   "file_extension": ".py",
   "mimetype": "text/x-python",
   "name": "python",
   "nbconvert_exporter": "python",
   "pygments_lexer": "ipython3",
   "version": "3.6.5"
  }
 },
 "nbformat": 4,
 "nbformat_minor": 2
}
